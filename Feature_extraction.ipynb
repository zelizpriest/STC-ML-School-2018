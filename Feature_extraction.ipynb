{
 "cells": [
  {
   "cell_type": "code",
   "execution_count": null,
   "metadata": {},
   "outputs": [],
   "source": [
    "import librosa\n",
    "from os import listdir\n",
    "import numpy as np\n",
    "import pandas as pd\n",
    "\n",
    "full_set = []\n",
    "n = 0\n",
    "for file in listdir('data/audio'):\n",
    "    try:\n",
    "        X, sample_rate = librosa.load('data/audio/%s'%file)\n",
    "        stft = np.abs(librosa.stft(X))\n",
    "        mfccs = np.mean(librosa.feature.mfcc(y=X, sr=sample_rate, n_mfcc=40).T,axis=0)\n",
    "        chroma = np.mean(librosa.feature.chroma_stft(S=stft, sr=sample_rate).T,axis=0)\n",
    "        mel = np.mean(librosa.feature.melspectrogram(X, sr=sample_rate).T,axis=0)\n",
    "        contrast = np.mean(librosa.feature.spectral_contrast(S=stft, sr=sample_rate).T,axis=0)\n",
    "        tonnetz = np.mean(librosa.feature.tonnetz(y=librosa.effects.harmonic(X),\n",
    "        sr=sample_rate).T,axis=0)\n",
    "        prepared_list = [file]\n",
    "        for i in [mfccs.tolist(),chroma.tolist(),mel.tolist(),contrast.tolist(),tonnetz.tolist()]:\n",
    "            prepared_list.extend(i)\n",
    "        full_set.append(prepared_list)\n",
    "    except:\n",
    "        print('problem with file', file)\n",
    "    n += 1\n",
    "    if n%100==0:\n",
    "        print(n, 'train files were processed!')"
   ]
  },
  {
   "cell_type": "code",
   "execution_count": null,
   "metadata": {},
   "outputs": [],
   "source": [
    "pd.DataFrame(np.array(full_set)).to_csv('full_set_prepared.csv', index = None)"
   ]
  },
  {
   "cell_type": "code",
   "execution_count": null,
   "metadata": {},
   "outputs": [],
   "source": [
    "full_set = []\n",
    "n = 0\n",
    "for file in listdir('data/test'):\n",
    "    try:\n",
    "        X, sample_rate = librosa.load('data/test/%s'%file)\n",
    "        stft = np.abs(librosa.stft(X))\n",
    "        mfccs = np.mean(librosa.feature.mfcc(y=X, sr=sample_rate, n_mfcc=40).T,axis=0)\n",
    "        chroma = np.mean(librosa.feature.chroma_stft(S=stft, sr=sample_rate).T,axis=0)\n",
    "        mel = np.mean(librosa.feature.melspectrogram(X, sr=sample_rate).T,axis=0)\n",
    "        contrast = np.mean(librosa.feature.spectral_contrast(S=stft, sr=sample_rate).T,axis=0)\n",
    "        tonnetz = np.mean(librosa.feature.tonnetz(y=librosa.effects.harmonic(X),\n",
    "        sr=sample_rate).T,axis=0)\n",
    "        prepared_list = [file]\n",
    "        for i in [mfccs.tolist(),chroma.tolist(),mel.tolist(),contrast.tolist(),tonnetz.tolist()]:\n",
    "            prepared_list.extend(i)\n",
    "        full_set.append(prepared_list)\n",
    "    except:\n",
    "        print('problem with file', file)\n",
    "    n += 1\n",
    "    if n%100==0:\n",
    "        print(n, 'test files were processed!')"
   ]
  },
  {
   "cell_type": "code",
   "execution_count": null,
   "metadata": {},
   "outputs": [],
   "source": [
    "pd.DataFrame(np.array(full_set)).to_csv('test_set_prepared.csv', index = None)"
   ]
  }
 ],
 "metadata": {
  "kernelspec": {
   "display_name": "Python 3",
   "language": "python",
   "name": "python3"
  },
  "language_info": {
   "codemirror_mode": {
    "name": "ipython",
    "version": 3
   },
   "file_extension": ".py",
   "mimetype": "text/x-python",
   "name": "python",
   "nbconvert_exporter": "python",
   "pygments_lexer": "ipython3",
   "version": "3.6.5"
  }
 },
 "nbformat": 4,
 "nbformat_minor": 2
}
